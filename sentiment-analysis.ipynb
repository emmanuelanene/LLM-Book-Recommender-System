{
 "cells": [
  {
   "cell_type": "code",
   "id": "initial_id",
   "metadata": {
    "collapsed": true,
    "ExecuteTime": {
     "end_time": "2025-04-26T06:54:21.479663Z",
     "start_time": "2025-04-26T06:54:21.063099Z"
    }
   },
   "source": [
    "import pandas as pd\n",
    "from transformers import pipeline\n",
    "\n",
    "books = pd.read_csv(\"books_with_categories.csv\")"
   ],
   "outputs": [],
   "execution_count": 8
  },
  {
   "metadata": {
    "ExecuteTime": {
     "end_time": "2025-04-25T22:46:51.705775Z",
     "start_time": "2025-04-25T22:46:50.817809Z"
    }
   },
   "cell_type": "code",
   "source": [
    "classifier = pipeline(\"text-classification\",\n",
    "                      model=\"j-hartmann/emotion-english-distilroberta-base\",\n",
    "                      top_k = None)\n",
    "\n",
    "classifier(\"I love this!\")"
   ],
   "id": "82ee06f6552ccb81",
   "outputs": [
    {
     "name": "stderr",
     "output_type": "stream",
     "text": [
      "Device set to use cpu\n"
     ]
    },
    {
     "data": {
      "text/plain": [
       "[[{'label': 'joy', 'score': 0.9771687984466553},\n",
       "  {'label': 'surprise', 'score': 0.008528691716492176},\n",
       "  {'label': 'neutral', 'score': 0.005764589179307222},\n",
       "  {'label': 'anger', 'score': 0.004419791977852583},\n",
       "  {'label': 'sadness', 'score': 0.002092393347993493},\n",
       "  {'label': 'disgust', 'score': 0.001611992483958602},\n",
       "  {'label': 'fear', 'score': 0.0004138525982853025}]]"
      ]
     },
     "execution_count": 6,
     "metadata": {},
     "output_type": "execute_result"
    }
   ],
   "execution_count": 6
  },
  {
   "metadata": {
    "ExecuteTime": {
     "end_time": "2025-04-26T06:54:24.219494Z",
     "start_time": "2025-04-26T06:54:24.209205Z"
    }
   },
   "cell_type": "code",
   "source": "books[\"description\"][0]",
   "id": "90825604fb01ad36",
   "outputs": [
    {
     "data": {
      "text/plain": [
       "'A NOVEL THAT READERS and critics have been eagerly anticipating for over a decade, Gilead is an astonishingly imagined story of remarkable lives. John Ames is a preacher, the son of a preacher and the grandson (both maternal and paternal) of preachers. It’s 1956 in Gilead, Iowa, towards the end of the Reverend Ames’s life, and he is absorbed in recording his family’s story, a legacy for the young son he will never see grow up. Haunted by his grandfather’s presence, John tells of the rift between his grandfather and his father: the elder, an angry visionary who fought for the abolitionist cause, and his son, an ardent pacifist. He is troubled, too, by his prodigal namesake, Jack (John Ames) Boughton, his best friend’s lost son who returns to Gilead searching for forgiveness and redemption. Told in John Ames’s joyous, rambling voice that finds beauty, humour and truth in the smallest of life’s details, Gilead is a song of celebration and acceptance of the best and the worst the world has to offer. At its heart is a tale of the sacred bonds between fathers and sons, pitch-perfect in style and story, set to dazzle critics and readers alike.'"
      ]
     },
     "execution_count": 9,
     "metadata": {},
     "output_type": "execute_result"
    }
   ],
   "execution_count": 9
  },
  {
   "metadata": {
    "ExecuteTime": {
     "end_time": "2025-04-26T06:54:51.527878Z",
     "start_time": "2025-04-26T06:54:50.664362Z"
    }
   },
   "cell_type": "code",
   "source": "classifier(books[\"description\"][0])",
   "id": "14c9cd0ddd18eb75",
   "outputs": [
    {
     "data": {
      "text/plain": [
       "[[{'label': 'fear', 'score': 0.6548399925231934},\n",
       "  {'label': 'neutral', 'score': 0.1698525995016098},\n",
       "  {'label': 'sadness', 'score': 0.11640939861536026},\n",
       "  {'label': 'surprise', 'score': 0.02070068009197712},\n",
       "  {'label': 'disgust', 'score': 0.019100721925497055},\n",
       "  {'label': 'joy', 'score': 0.015161462128162384},\n",
       "  {'label': 'anger', 'score': 0.003935154061764479}]]"
      ]
     },
     "execution_count": 10,
     "metadata": {},
     "output_type": "execute_result"
    }
   ],
   "execution_count": 10
  },
  {
   "metadata": {
    "ExecuteTime": {
     "end_time": "2025-04-26T06:56:49.853831Z",
     "start_time": "2025-04-26T06:56:49.845089Z"
    }
   },
   "cell_type": "code",
   "source": "books[\"description\"][0].split(\".\")",
   "id": "a51e6acbfecc334d",
   "outputs": [
    {
     "data": {
      "text/plain": [
       "['A NOVEL THAT READERS and critics have been eagerly anticipating for over a decade, Gilead is an astonishingly imagined story of remarkable lives',\n",
       " ' John Ames is a preacher, the son of a preacher and the grandson (both maternal and paternal) of preachers',\n",
       " ' It’s 1956 in Gilead, Iowa, towards the end of the Reverend Ames’s life, and he is absorbed in recording his family’s story, a legacy for the young son he will never see grow up',\n",
       " ' Haunted by his grandfather’s presence, John tells of the rift between his grandfather and his father: the elder, an angry visionary who fought for the abolitionist cause, and his son, an ardent pacifist',\n",
       " ' He is troubled, too, by his prodigal namesake, Jack (John Ames) Boughton, his best friend’s lost son who returns to Gilead searching for forgiveness and redemption',\n",
       " ' Told in John Ames’s joyous, rambling voice that finds beauty, humour and truth in the smallest of life’s details, Gilead is a song of celebration and acceptance of the best and the worst the world has to offer',\n",
       " ' At its heart is a tale of the sacred bonds between fathers and sons, pitch-perfect in style and story, set to dazzle critics and readers alike',\n",
       " '']"
      ]
     },
     "execution_count": 11,
     "metadata": {},
     "output_type": "execute_result"
    }
   ],
   "execution_count": 11
  },
  {
   "metadata": {
    "ExecuteTime": {
     "end_time": "2025-04-26T06:58:05.518406Z",
     "start_time": "2025-04-26T06:58:05.138491Z"
    }
   },
   "cell_type": "code",
   "source": "classifier(books[\"description\"][0].split(\".\"))",
   "id": "853d29677b1cdc38",
   "outputs": [
    {
     "data": {
      "text/plain": [
       "[[{'label': 'surprise', 'score': 0.7296021580696106},\n",
       "  {'label': 'neutral', 'score': 0.14038598537445068},\n",
       "  {'label': 'fear', 'score': 0.06816227734088898},\n",
       "  {'label': 'joy', 'score': 0.04794260486960411},\n",
       "  {'label': 'anger', 'score': 0.009156367741525173},\n",
       "  {'label': 'disgust', 'score': 0.0026284768246114254},\n",
       "  {'label': 'sadness', 'score': 0.002122163772583008}],\n",
       " [{'label': 'neutral', 'score': 0.4493706524372101},\n",
       "  {'label': 'disgust', 'score': 0.27359113097190857},\n",
       "  {'label': 'joy', 'score': 0.1090831384062767},\n",
       "  {'label': 'sadness', 'score': 0.09362747520208359},\n",
       "  {'label': 'anger', 'score': 0.04047833010554314},\n",
       "  {'label': 'surprise', 'score': 0.02697019837796688},\n",
       "  {'label': 'fear', 'score': 0.006879049818962812}],\n",
       " [{'label': 'neutral', 'score': 0.6462159156799316},\n",
       "  {'label': 'sadness', 'score': 0.242733433842659},\n",
       "  {'label': 'disgust', 'score': 0.043422672897577286},\n",
       "  {'label': 'surprise', 'score': 0.02830057218670845},\n",
       "  {'label': 'joy', 'score': 0.014211490750312805},\n",
       "  {'label': 'fear', 'score': 0.014084091410040855},\n",
       "  {'label': 'anger', 'score': 0.011031905189156532}],\n",
       " [{'label': 'fear', 'score': 0.9281682968139648},\n",
       "  {'label': 'anger', 'score': 0.03219081461429596},\n",
       "  {'label': 'neutral', 'score': 0.012808660045266151},\n",
       "  {'label': 'sadness', 'score': 0.008756875991821289},\n",
       "  {'label': 'surprise', 'score': 0.008597892709076405},\n",
       "  {'label': 'disgust', 'score': 0.008431807160377502},\n",
       "  {'label': 'joy', 'score': 0.0010455832816660404}],\n",
       " [{'label': 'sadness', 'score': 0.9671575427055359},\n",
       "  {'label': 'neutral', 'score': 0.015104148536920547},\n",
       "  {'label': 'disgust', 'score': 0.00648059556260705},\n",
       "  {'label': 'fear', 'score': 0.005393987521529198},\n",
       "  {'label': 'surprise', 'score': 0.0022869398817420006},\n",
       "  {'label': 'anger', 'score': 0.001842890284024179},\n",
       "  {'label': 'joy', 'score': 0.0017338779289275408}],\n",
       " [{'label': 'joy', 'score': 0.9327981472015381},\n",
       "  {'label': 'disgust', 'score': 0.0377170704305172},\n",
       "  {'label': 'neutral', 'score': 0.015891827642917633},\n",
       "  {'label': 'sadness', 'score': 0.006444500293582678},\n",
       "  {'label': 'anger', 'score': 0.005024968180805445},\n",
       "  {'label': 'surprise', 'score': 0.0015812065685167909},\n",
       "  {'label': 'fear', 'score': 0.0005423057009465992}],\n",
       " [{'label': 'joy', 'score': 0.6528705954551697},\n",
       "  {'label': 'neutral', 'score': 0.25427478551864624},\n",
       "  {'label': 'surprise', 'score': 0.06808297336101532},\n",
       "  {'label': 'sadness', 'score': 0.009908991865813732},\n",
       "  {'label': 'disgust', 'score': 0.006512214429676533},\n",
       "  {'label': 'anger', 'score': 0.0048213074915111065},\n",
       "  {'label': 'fear', 'score': 0.003529018023982644}],\n",
       " [{'label': 'neutral', 'score': 0.549476683139801},\n",
       "  {'label': 'sadness', 'score': 0.11169019341468811},\n",
       "  {'label': 'disgust', 'score': 0.10400673747062683},\n",
       "  {'label': 'surprise', 'score': 0.07876546680927277},\n",
       "  {'label': 'anger', 'score': 0.06413363665342331},\n",
       "  {'label': 'fear', 'score': 0.051362838596105576},\n",
       "  {'label': 'joy', 'score': 0.04056441783905029}]]"
      ]
     },
     "execution_count": 12,
     "metadata": {},
     "output_type": "execute_result"
    }
   ],
   "execution_count": 12
  },
  {
   "metadata": {
    "ExecuteTime": {
     "end_time": "2025-04-26T06:59:21.498129Z",
     "start_time": "2025-04-26T06:59:21.147059Z"
    }
   },
   "cell_type": "code",
   "source": [
    "sentences = books[\"description\"][0].split(\".\")\n",
    "predictions = classifier(sentences)"
   ],
   "id": "8387a6815b63c4f9",
   "outputs": [],
   "execution_count": 13
  },
  {
   "metadata": {
    "ExecuteTime": {
     "end_time": "2025-04-26T06:59:34.505342Z",
     "start_time": "2025-04-26T06:59:34.498752Z"
    }
   },
   "cell_type": "code",
   "source": "sentences[0]",
   "id": "4ee1a7bd15fb73cb",
   "outputs": [
    {
     "data": {
      "text/plain": [
       "'A NOVEL THAT READERS and critics have been eagerly anticipating for over a decade, Gilead is an astonishingly imagined story of remarkable lives'"
      ]
     },
     "execution_count": 14,
     "metadata": {},
     "output_type": "execute_result"
    }
   ],
   "execution_count": 14
  },
  {
   "metadata": {
    "ExecuteTime": {
     "end_time": "2025-04-26T06:59:53.383751Z",
     "start_time": "2025-04-26T06:59:53.377243Z"
    }
   },
   "cell_type": "code",
   "source": "predictions[0]",
   "id": "2428f71d0ed0afe8",
   "outputs": [
    {
     "data": {
      "text/plain": [
       "[{'label': 'surprise', 'score': 0.7296021580696106},\n",
       " {'label': 'neutral', 'score': 0.14038598537445068},\n",
       " {'label': 'fear', 'score': 0.06816227734088898},\n",
       " {'label': 'joy', 'score': 0.04794260486960411},\n",
       " {'label': 'anger', 'score': 0.009156367741525173},\n",
       " {'label': 'disgust', 'score': 0.0026284768246114254},\n",
       " {'label': 'sadness', 'score': 0.002122163772583008}]"
      ]
     },
     "execution_count": 15,
     "metadata": {},
     "output_type": "execute_result"
    }
   ],
   "execution_count": 15
  },
  {
   "metadata": {
    "ExecuteTime": {
     "end_time": "2025-04-26T07:00:01.903979Z",
     "start_time": "2025-04-26T07:00:01.898446Z"
    }
   },
   "cell_type": "code",
   "source": "sentences[3]",
   "id": "b3b1c1140be7b198",
   "outputs": [
    {
     "data": {
      "text/plain": [
       "' Haunted by his grandfather’s presence, John tells of the rift between his grandfather and his father: the elder, an angry visionary who fought for the abolitionist cause, and his son, an ardent pacifist'"
      ]
     },
     "execution_count": 16,
     "metadata": {},
     "output_type": "execute_result"
    }
   ],
   "execution_count": 16
  },
  {
   "metadata": {
    "ExecuteTime": {
     "end_time": "2025-04-26T07:00:05.346397Z",
     "start_time": "2025-04-26T07:00:05.337845Z"
    }
   },
   "cell_type": "code",
   "source": "predictions[3]",
   "id": "8f91c2a644f579ac",
   "outputs": [
    {
     "data": {
      "text/plain": [
       "[{'label': 'fear', 'score': 0.9281682968139648},\n",
       " {'label': 'anger', 'score': 0.03219081461429596},\n",
       " {'label': 'neutral', 'score': 0.012808660045266151},\n",
       " {'label': 'sadness', 'score': 0.008756875991821289},\n",
       " {'label': 'surprise', 'score': 0.008597892709076405},\n",
       " {'label': 'disgust', 'score': 0.008431807160377502},\n",
       " {'label': 'joy', 'score': 0.0010455832816660404}]"
      ]
     },
     "execution_count": 17,
     "metadata": {},
     "output_type": "execute_result"
    }
   ],
   "execution_count": 17
  },
  {
   "metadata": {
    "ExecuteTime": {
     "end_time": "2025-04-26T07:00:15.611189Z",
     "start_time": "2025-04-26T07:00:15.601163Z"
    }
   },
   "cell_type": "code",
   "source": "predictions",
   "id": "22a50ff0c20bf9c",
   "outputs": [
    {
     "data": {
      "text/plain": [
       "[[{'label': 'surprise', 'score': 0.7296021580696106},\n",
       "  {'label': 'neutral', 'score': 0.14038598537445068},\n",
       "  {'label': 'fear', 'score': 0.06816227734088898},\n",
       "  {'label': 'joy', 'score': 0.04794260486960411},\n",
       "  {'label': 'anger', 'score': 0.009156367741525173},\n",
       "  {'label': 'disgust', 'score': 0.0026284768246114254},\n",
       "  {'label': 'sadness', 'score': 0.002122163772583008}],\n",
       " [{'label': 'neutral', 'score': 0.4493706524372101},\n",
       "  {'label': 'disgust', 'score': 0.27359113097190857},\n",
       "  {'label': 'joy', 'score': 0.1090831384062767},\n",
       "  {'label': 'sadness', 'score': 0.09362747520208359},\n",
       "  {'label': 'anger', 'score': 0.04047833010554314},\n",
       "  {'label': 'surprise', 'score': 0.02697019837796688},\n",
       "  {'label': 'fear', 'score': 0.006879049818962812}],\n",
       " [{'label': 'neutral', 'score': 0.6462159156799316},\n",
       "  {'label': 'sadness', 'score': 0.242733433842659},\n",
       "  {'label': 'disgust', 'score': 0.043422672897577286},\n",
       "  {'label': 'surprise', 'score': 0.02830057218670845},\n",
       "  {'label': 'joy', 'score': 0.014211490750312805},\n",
       "  {'label': 'fear', 'score': 0.014084091410040855},\n",
       "  {'label': 'anger', 'score': 0.011031905189156532}],\n",
       " [{'label': 'fear', 'score': 0.9281682968139648},\n",
       "  {'label': 'anger', 'score': 0.03219081461429596},\n",
       "  {'label': 'neutral', 'score': 0.012808660045266151},\n",
       "  {'label': 'sadness', 'score': 0.008756875991821289},\n",
       "  {'label': 'surprise', 'score': 0.008597892709076405},\n",
       "  {'label': 'disgust', 'score': 0.008431807160377502},\n",
       "  {'label': 'joy', 'score': 0.0010455832816660404}],\n",
       " [{'label': 'sadness', 'score': 0.9671575427055359},\n",
       "  {'label': 'neutral', 'score': 0.015104148536920547},\n",
       "  {'label': 'disgust', 'score': 0.00648059556260705},\n",
       "  {'label': 'fear', 'score': 0.005393987521529198},\n",
       "  {'label': 'surprise', 'score': 0.0022869398817420006},\n",
       "  {'label': 'anger', 'score': 0.001842890284024179},\n",
       "  {'label': 'joy', 'score': 0.0017338779289275408}],\n",
       " [{'label': 'joy', 'score': 0.9327981472015381},\n",
       "  {'label': 'disgust', 'score': 0.0377170704305172},\n",
       "  {'label': 'neutral', 'score': 0.015891827642917633},\n",
       "  {'label': 'sadness', 'score': 0.006444500293582678},\n",
       "  {'label': 'anger', 'score': 0.005024968180805445},\n",
       "  {'label': 'surprise', 'score': 0.0015812065685167909},\n",
       "  {'label': 'fear', 'score': 0.0005423057009465992}],\n",
       " [{'label': 'joy', 'score': 0.6528705954551697},\n",
       "  {'label': 'neutral', 'score': 0.25427478551864624},\n",
       "  {'label': 'surprise', 'score': 0.06808297336101532},\n",
       "  {'label': 'sadness', 'score': 0.009908991865813732},\n",
       "  {'label': 'disgust', 'score': 0.006512214429676533},\n",
       "  {'label': 'anger', 'score': 0.0048213074915111065},\n",
       "  {'label': 'fear', 'score': 0.003529018023982644}],\n",
       " [{'label': 'neutral', 'score': 0.549476683139801},\n",
       "  {'label': 'sadness', 'score': 0.11169019341468811},\n",
       "  {'label': 'disgust', 'score': 0.10400673747062683},\n",
       "  {'label': 'surprise', 'score': 0.07876546680927277},\n",
       "  {'label': 'anger', 'score': 0.06413363665342331},\n",
       "  {'label': 'fear', 'score': 0.051362838596105576},\n",
       "  {'label': 'joy', 'score': 0.04056441783905029}]]"
      ]
     },
     "execution_count": 18,
     "metadata": {},
     "output_type": "execute_result"
    }
   ],
   "execution_count": 18
  },
  {
   "metadata": {
    "ExecuteTime": {
     "end_time": "2025-04-26T07:01:36.175047Z",
     "start_time": "2025-04-26T07:01:36.168331Z"
    }
   },
   "cell_type": "code",
   "source": "sorted(predictions[0], key=lambda x: x[\"label\"])",
   "id": "c05eba806f79ae5c",
   "outputs": [
    {
     "data": {
      "text/plain": [
       "[{'label': 'anger', 'score': 0.009156367741525173},\n",
       " {'label': 'disgust', 'score': 0.0026284768246114254},\n",
       " {'label': 'fear', 'score': 0.06816227734088898},\n",
       " {'label': 'joy', 'score': 0.04794260486960411},\n",
       " {'label': 'neutral', 'score': 0.14038598537445068},\n",
       " {'label': 'sadness', 'score': 0.002122163772583008},\n",
       " {'label': 'surprise', 'score': 0.7296021580696106}]"
      ]
     },
     "execution_count": 19,
     "metadata": {},
     "output_type": "execute_result"
    }
   ],
   "execution_count": 19
  },
  {
   "metadata": {
    "ExecuteTime": {
     "end_time": "2025-04-26T07:22:45.701017Z",
     "start_time": "2025-04-26T07:22:45.691987Z"
    }
   },
   "cell_type": "code",
   "source": [
    "import numpy as np\n",
    "\n",
    "emotion_labels = [\"anger\", \"disgust\", \"fear\", \"joy\", \"neutral\", \"sadness\", \"surprise\"]\n",
    "isbn = []\n",
    "emotion_scores = {label: [] for label in emotion_labels}\n",
    "\n",
    "\n",
    "def calculate_max_emotion_scores(predictions):\n",
    "    per_emotion_scores = {label: [] for label in emotion_labels}\n",
    "\n",
    "    for prediction in predictions:\n",
    "        sorted_predictions = sorted(prediction, key=lambda x: x[\"label\"])\n",
    "\n",
    "        for index, label in enumerate(emotion_labels):\n",
    "            per_emotion_scores[label].append(sorted_predictions[index][\"score\"])\n",
    "\n",
    "    return {label: np.max(scores) for label, scores in per_emotion_scores.items()}"
   ],
   "id": "dcb768f4a36d5736",
   "outputs": [],
   "execution_count": 20
  },
  {
   "metadata": {
    "ExecuteTime": {
     "end_time": "2025-04-26T07:50:19.039096Z",
     "start_time": "2025-04-26T07:50:17.010360Z"
    }
   },
   "cell_type": "code",
   "source": [
    "for i in range(10):\n",
    "    isbn.append(books[\"isbn13\"][i])\n",
    "\n",
    "    sentences = books[\"description\"][i].split(\".\")\n",
    "\n",
    "    predictions = classifier(sentences)\n",
    "\n",
    "    max_scores = calculate_max_emotion_scores(predictions)\n",
    "\n",
    "    for label in emotion_labels:\n",
    "        emotion_scores[label].append(max_scores[label])"
   ],
   "id": "4d3132dcb1e317d9",
   "outputs": [],
   "execution_count": 21
  },
  {
   "metadata": {
    "ExecuteTime": {
     "end_time": "2025-04-26T07:50:22.419731Z",
     "start_time": "2025-04-26T07:50:22.413604Z"
    }
   },
   "cell_type": "code",
   "source": "emotion_scores",
   "id": "88830a2a4a2af812",
   "outputs": [
    {
     "data": {
      "text/plain": [
       "{'anger': [np.float64(0.06413363665342331),\n",
       "  np.float64(0.6126194596290588),\n",
       "  np.float64(0.06413363665342331),\n",
       "  np.float64(0.35148516297340393),\n",
       "  np.float64(0.0814124271273613),\n",
       "  np.float64(0.23222433030605316),\n",
       "  np.float64(0.5381842255592346),\n",
       "  np.float64(0.06413363665342331),\n",
       "  np.float64(0.3006698489189148),\n",
       "  np.float64(0.06413363665342331)],\n",
       " 'disgust': [np.float64(0.27359113097190857),\n",
       "  np.float64(0.3482842445373535),\n",
       "  np.float64(0.10400673747062683),\n",
       "  np.float64(0.1507222205400467),\n",
       "  np.float64(0.18449550867080688),\n",
       "  np.float64(0.7271752953529358),\n",
       "  np.float64(0.15585486590862274),\n",
       "  np.float64(0.10400673747062683),\n",
       "  np.float64(0.27948102355003357),\n",
       "  np.float64(0.17792704701423645)],\n",
       " 'fear': [np.float64(0.9281682968139648),\n",
       "  np.float64(0.942527711391449),\n",
       "  np.float64(0.9723207950592041),\n",
       "  np.float64(0.36070549488067627),\n",
       "  np.float64(0.09504342079162598),\n",
       "  np.float64(0.051362838596105576),\n",
       "  np.float64(0.7474275231361389),\n",
       "  np.float64(0.4044971764087677),\n",
       "  np.float64(0.9155240654945374),\n",
       "  np.float64(0.051362838596105576)],\n",
       " 'joy': [np.float64(0.9327981472015381),\n",
       "  np.float64(0.7044221758842468),\n",
       "  np.float64(0.7672385573387146),\n",
       "  np.float64(0.25188156962394714),\n",
       "  np.float64(0.04056441783905029),\n",
       "  np.float64(0.04337583854794502),\n",
       "  np.float64(0.872565746307373),\n",
       "  np.float64(0.04056441783905029),\n",
       "  np.float64(0.04056441783905029),\n",
       "  np.float64(0.04056441783905029)],\n",
       " 'neutral': [np.float64(0.6462159156799316),\n",
       "  np.float64(0.8879395127296448),\n",
       "  np.float64(0.549476683139801),\n",
       "  np.float64(0.7326849102973938),\n",
       "  np.float64(0.8843895196914673),\n",
       "  np.float64(0.6213918328285217),\n",
       "  np.float64(0.7121940851211548),\n",
       "  np.float64(0.549476683139801),\n",
       "  np.float64(0.8402892351150513),\n",
       "  np.float64(0.8603723645210266)],\n",
       " 'sadness': [np.float64(0.9671575427055359),\n",
       "  np.float64(0.11169019341468811),\n",
       "  np.float64(0.11169019341468811),\n",
       "  np.float64(0.11169019341468811),\n",
       "  np.float64(0.4758801758289337),\n",
       "  np.float64(0.11169019341468811),\n",
       "  np.float64(0.40800151228904724),\n",
       "  np.float64(0.8202826380729675),\n",
       "  np.float64(0.35446202754974365),\n",
       "  np.float64(0.11169019341468811)],\n",
       " 'surprise': [np.float64(0.7296021580696106),\n",
       "  np.float64(0.25254595279693604),\n",
       "  np.float64(0.07876546680927277),\n",
       "  np.float64(0.07876546680927277),\n",
       "  np.float64(0.07876546680927277),\n",
       "  np.float64(0.27190354466438293),\n",
       "  np.float64(0.07876546680927277),\n",
       "  np.float64(0.23448696732521057),\n",
       "  np.float64(0.1356135606765747),\n",
       "  np.float64(0.07876546680927277)]}"
      ]
     },
     "execution_count": 22,
     "metadata": {},
     "output_type": "execute_result"
    }
   ],
   "execution_count": 22
  },
  {
   "metadata": {},
   "cell_type": "code",
   "outputs": [],
   "execution_count": null,
   "source": [
    "from tqdm import tqdm\n",
    "\n",
    "emotion_labels = [\"anger\", \"disgust\", \"fear\", \"joy\", \"sadness\", \"surprise\", \"neutral\"]\n",
    "isbn = []\n",
    "emotion_scores = {label: [] for label in emotion_labels}\n",
    "\n",
    "for i in tqdm(range(len(books))):\n",
    "    isbn.append(books[\"isbn13\"][i])\n",
    "\n",
    "    sentences = books[\"description\"][i].split(\".\")\n",
    "\n",
    "    predictions = classifier(sentences)\n",
    "\n",
    "    max_scores = calculate_max_emotion_scores(predictions)\n",
    "\n",
    "    for label in emotion_labels:\n",
    "        emotion_scores[label].append(max_scores[label])"
   ],
   "id": "de362998d8d59c40"
  },
  {
   "metadata": {},
   "cell_type": "code",
   "outputs": [],
   "execution_count": null,
   "source": [
    "emotions_df = pd.DataFrame(emotion_scores)\n",
    "emotions_df[\"isbn13\"] = isbn"
   ],
   "id": "bebb4754424c568a"
  },
  {
   "metadata": {},
   "cell_type": "code",
   "outputs": [],
   "execution_count": null,
   "source": "emotions_df",
   "id": "5a04bf1e7d3b33c9"
  },
  {
   "metadata": {},
   "cell_type": "code",
   "outputs": [],
   "execution_count": null,
   "source": "books = pd.merge(books, emotions_df, on = \"isbn13\")",
   "id": "1d9429aeec216117"
  },
  {
   "metadata": {},
   "cell_type": "code",
   "outputs": [],
   "execution_count": null,
   "source": "books",
   "id": "39c62f9392f9d142"
  },
  {
   "metadata": {},
   "cell_type": "code",
   "outputs": [],
   "execution_count": null,
   "source": "books.to_csv(\"books_with_emotions.csv\", index = False)",
   "id": "dff42ed0e95372a4"
  }
 ],
 "metadata": {
  "kernelspec": {
   "display_name": "Python 3",
   "language": "python",
   "name": "python3"
  },
  "language_info": {
   "codemirror_mode": {
    "name": "ipython",
    "version": 2
   },
   "file_extension": ".py",
   "mimetype": "text/x-python",
   "name": "python",
   "nbconvert_exporter": "python",
   "pygments_lexer": "ipython2",
   "version": "2.7.6"
  }
 },
 "nbformat": 4,
 "nbformat_minor": 5
}
